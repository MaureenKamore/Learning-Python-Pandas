{
 "cells": [
  {
   "cell_type": "markdown",
   "id": "389e2955-97f4-40ec-814f-7234b5558735",
   "metadata": {},
   "source": [
    "COMPARISON OPERATORS"
   ]
  },
  {
   "cell_type": "code",
   "execution_count": 26,
   "id": "90c594d7-2a06-46a7-9788-e81671e97118",
   "metadata": {},
   "outputs": [
    {
     "data": {
      "text/plain": [
       "True"
      ]
     },
     "execution_count": 26,
     "metadata": {},
     "output_type": "execute_result"
    }
   ],
   "source": [
    "10==10 #equal to"
   ]
  },
  {
   "cell_type": "code",
   "execution_count": 20,
   "id": "92fc3b60-a70c-4398-bd93-826c9af82759",
   "metadata": {},
   "outputs": [
    {
     "data": {
      "text/plain": [
       "True"
      ]
     },
     "execution_count": 20,
     "metadata": {},
     "output_type": "execute_result"
    }
   ],
   "source": [
    "5!=10 #not equal to"
   ]
  },
  {
   "cell_type": "code",
   "execution_count": 22,
   "id": "1317838f-b790-4295-aaf0-301d60191091",
   "metadata": {},
   "outputs": [
    {
     "data": {
      "text/plain": [
       "False"
      ]
     },
     "execution_count": 22,
     "metadata": {},
     "output_type": "execute_result"
    }
   ],
   "source": [
    "5>10 #greater than "
   ]
  },
  {
   "cell_type": "code",
   "execution_count": 28,
   "id": "e914ef8e-01ce-43b9-bf65-ee3e76cf84a4",
   "metadata": {},
   "outputs": [
    {
     "data": {
      "text/plain": [
       "True"
      ]
     },
     "execution_count": 28,
     "metadata": {},
     "output_type": "execute_result"
    }
   ],
   "source": [
    "5<10 #less than "
   ]
  },
  {
   "cell_type": "code",
   "execution_count": 30,
   "id": "386097d1-6fcb-4998-96f2-847c31338c8b",
   "metadata": {},
   "outputs": [
    {
     "data": {
      "text/plain": [
       "False"
      ]
     },
     "execution_count": 30,
     "metadata": {},
     "output_type": "execute_result"
    }
   ],
   "source": [
    "5>=10 #greater than or equal to"
   ]
  },
  {
   "cell_type": "code",
   "execution_count": 32,
   "id": "42f6d11d-47ae-4e8b-8b9c-6eef6cd23a59",
   "metadata": {},
   "outputs": [
    {
     "data": {
      "text/plain": [
       "True"
      ]
     },
     "execution_count": 32,
     "metadata": {},
     "output_type": "execute_result"
    }
   ],
   "source": [
    "5<=10 #less than or equal to"
   ]
  },
  {
   "cell_type": "markdown",
   "id": "7240243b-583c-4c2c-8d28-06ddedbbf0be",
   "metadata": {},
   "source": [
    "LOGICAL OPERATORS"
   ]
  },
  {
   "cell_type": "code",
   "execution_count": 35,
   "id": "e5b92b98-bf92-4c7f-af11-aa6e0f6a66f5",
   "metadata": {},
   "outputs": [
    {
     "data": {
      "text/plain": [
       "True"
      ]
     },
     "execution_count": 35,
     "metadata": {},
     "output_type": "execute_result"
    }
   ],
   "source": [
    "(70>50) and (50>30) # 'and' returns TRUE if both statements are true"
   ]
  },
  {
   "cell_type": "code",
   "execution_count": 37,
   "id": "a06373f1-a330-4a0a-b99d-3568d59ebc27",
   "metadata": {},
   "outputs": [
    {
     "data": {
      "text/plain": [
       "True"
      ]
     },
     "execution_count": 37,
     "metadata": {},
     "output_type": "execute_result"
    }
   ],
   "source": [
    "(50>40) or (30<5)# 'or' returns TRUE if one of the statements is true"
   ]
  },
  {
   "cell_type": "code",
   "execution_count": 41,
   "id": "a6bec869-243f-44a7-a6e8-a47b21a1e6db",
   "metadata": {},
   "outputs": [
    {
     "data": {
      "text/plain": [
       "False"
      ]
     },
     "execution_count": 41,
     "metadata": {},
     "output_type": "execute_result"
    }
   ],
   "source": [
    "not(50>40) # 'not' reverse the result, returns FALSE if the result is TRUE"
   ]
  },
  {
   "cell_type": "markdown",
   "id": "b077a275-80b5-4e6b-9da2-cdc8591aa661",
   "metadata": {},
   "source": [
    "MEMBERSHIP OPERATORS"
   ]
  },
  {
   "cell_type": "code",
   "execution_count": 45,
   "id": "7746b8b8-8180-402f-82b5-c297717f7610",
   "metadata": {},
   "outputs": [
    {
     "data": {
      "text/plain": [
       "True"
      ]
     },
     "execution_count": 45,
     "metadata": {},
     "output_type": "execute_result"
    }
   ],
   "source": [
    " ice_cream = 'i love chocolate ice cream' \n",
    "'love' in ice_cream #'in' returns TRUE if a sequence with the specified value is present in the object"
   ]
  },
  {
   "cell_type": "code",
   "execution_count": 53,
   "id": "43668149-f508-4174-b1f3-31a4e1cd9693",
   "metadata": {},
   "outputs": [
    {
     "data": {
      "text/plain": [
       "True"
      ]
     },
     "execution_count": 53,
     "metadata": {},
     "output_type": "execute_result"
    }
   ],
   "source": [
    "scoops = [1,2,3,4,5,6]\n",
    "6 in scoops"
   ]
  },
  {
   "cell_type": "code",
   "execution_count": 61,
   "id": "d366ca51-1519-4b1b-927b-7509cc5696f2",
   "metadata": {},
   "outputs": [
    {
     "data": {
      "text/plain": [
       "True"
      ]
     },
     "execution_count": 61,
     "metadata": {},
     "output_type": "execute_result"
    }
   ],
   "source": [
    " scoops = [1,2,3,4,5,6,7,8]\n",
    "wanted_scoops =9 \n",
    "wanted_scoops not in scoops#'not in' returns TRUE if a sequence with the specified value is not present in the object"
   ]
  },
  {
   "cell_type": "markdown",
   "id": "b603e6fa-752d-484d-b5a2-86cf67b31deb",
   "metadata": {},
   "source": [
    "IF, ELIF, ELSE STATEMENTS"
   ]
  },
  {
   "cell_type": "code",
   "execution_count": 82,
   "id": "70c7f151-6113-4a81-9b17-285591460540",
   "metadata": {},
   "outputs": [
    {
     "name": "stdout",
     "output_type": "stream",
     "text": [
      "Worked!\n"
     ]
    }
   ],
   "source": [
    "if 25>10:\n",
    "    print ('Worked!')"
   ]
  },
  {
   "cell_type": "code",
   "execution_count": 84,
   "id": "9b052524-77fa-41ad-8f2f-196a09c1641f",
   "metadata": {},
   "outputs": [
    {
     "name": "stdout",
     "output_type": "stream",
     "text": [
      "Not Worked!\n"
     ]
    }
   ],
   "source": [
    "if 25<10:\n",
    "    print ('Worked!')\n",
    "else:\n",
    "    print ('Not Worked!')"
   ]
  },
  {
   "cell_type": "code",
   "execution_count": 86,
   "id": "52e169e9-c6c4-48a5-a646-9918e7cad3d5",
   "metadata": {},
   "outputs": [
    {
     "name": "stdout",
     "output_type": "stream",
     "text": [
      "elif worked!\n"
     ]
    }
   ],
   "source": [
    "if 25<10:\n",
    "    print ('Worked!')\n",
    "elif 25<30:\n",
    "    print ('elif worked!')\n",
    "else:\n",
    "    print ('Not Worked!')"
   ]
  },
  {
   "cell_type": "markdown",
   "id": "a5d93ede-5c9b-4d04-b427-47762a77f70a",
   "metadata": {},
   "source": [
    "FOR LOOPS"
   ]
  },
  {
   "cell_type": "code",
   "execution_count": 173,
   "id": "af03e60c-c412-4cfb-804f-5b2e4a68a5b7",
   "metadata": {},
   "outputs": [
    {
     "name": "stdout",
     "output_type": "stream",
     "text": [
      "1\n",
      "2\n",
      "3\n",
      "4\n",
      "5\n"
     ]
    }
   ],
   "source": [
    "integers = [1,2,3,4,5]\n",
    "for number in integers:\n",
    "    print (number)"
   ]
  },
  {
   "cell_type": "code",
   "execution_count": 115,
   "id": "bb82d103-aae9-4a72-85cb-725ced282d45",
   "metadata": {},
   "outputs": [],
   "source": [
    "ice_cream_dict = {'name': 'kamore', 'weekly intake': 5, 'favorite ice cream': ['vanilla', 'chocolate']}"
   ]
  },
  {
   "cell_type": "code",
   "execution_count": 157,
   "id": "a72b4992-194a-4754-88b9-1377fde195dc",
   "metadata": {},
   "outputs": [
    {
     "name": "stdout",
     "output_type": "stream",
     "text": [
      "kamore\n",
      "5\n",
      "['vanilla', 'chocolate']\n"
     ]
    }
   ],
   "source": [
    "for cream in ice_cream_dict.values():\n",
    "    print (cream)"
   ]
  },
  {
   "cell_type": "code",
   "execution_count": 153,
   "id": "7763ff89-1476-40a4-bd1e-99ca6546b91d",
   "metadata": {},
   "outputs": [
    {
     "name": "stdout",
     "output_type": "stream",
     "text": [
      "name -> kamore\n",
      "weekly intake -> 5\n",
      "favorite ice cream -> ['vanilla', 'chocolate']\n"
     ]
    }
   ],
   "source": [
    "for keys,values in ice_cream_dict.items():\n",
    "    print (keys, '->', values)"
   ]
  },
  {
   "cell_type": "code",
   "execution_count": 159,
   "id": "1fb8146a-db64-404c-b656-da92eb031892",
   "metadata": {},
   "outputs": [
    {
     "name": "stdout",
     "output_type": "stream",
     "text": [
      "('name', 'kamore')\n",
      "('weekly intake', 5)\n",
      "('favorite ice cream', ['vanilla', 'chocolate'])\n"
     ]
    }
   ],
   "source": [
    "for cream in ice_cream_dict.items():\n",
    "    print (cream)"
   ]
  },
  {
   "cell_type": "code",
   "execution_count": 161,
   "id": "c81e4200-b534-40c1-a22a-c207fdf8ecbc",
   "metadata": {},
   "outputs": [],
   "source": [
    "flavors = ['vanilla','chocolate','strawberry']\n",
    "toppings = ['hot fudge','oreos','chocolate chips']"
   ]
  },
  {
   "cell_type": "code",
   "execution_count": 171,
   "id": "37ec1392-6a1d-43fe-9d0a-008bb4a17859",
   "metadata": {},
   "outputs": [
    {
     "name": "stdout",
     "output_type": "stream",
     "text": [
      "vanilla topped with hot fudge\n",
      "vanilla topped with oreos\n",
      "vanilla topped with chocolate chips\n",
      "chocolate topped with hot fudge\n",
      "chocolate topped with oreos\n",
      "chocolate topped with chocolate chips\n",
      "strawberry topped with hot fudge\n",
      "strawberry topped with oreos\n",
      "strawberry topped with chocolate chips\n"
     ]
    }
   ],
   "source": [
    "for one in flavors:\n",
    "    for two in toppings:\n",
    "        print(one,'topped with',two)"
   ]
  },
  {
   "cell_type": "markdown",
   "id": "54e56b71-446e-4c36-b136-a76d9b1fe890",
   "metadata": {},
   "source": [
    "WHILE LOOPS"
   ]
  },
  {
   "cell_type": "code",
   "execution_count": 180,
   "id": "73b04621-2a9e-4b86-b628-d2c3e8c93fb8",
   "metadata": {},
   "outputs": [
    {
     "name": "stdout",
     "output_type": "stream",
     "text": [
      "0\n",
      "1\n",
      "2\n",
      "3\n",
      "4\n"
     ]
    }
   ],
   "source": [
    "number =0\n",
    "while number<5:\n",
    "    print(number)\n",
    "    number=number+1"
   ]
  },
  {
   "cell_type": "code",
   "execution_count": 184,
   "id": "f65bc8b6-1dd3-498a-a332-01d3af9a1afb",
   "metadata": {},
   "outputs": [
    {
     "name": "stdout",
     "output_type": "stream",
     "text": [
      "0\n",
      "1\n",
      "2\n",
      "3\n"
     ]
    }
   ],
   "source": [
    "#break statement\n",
    "\n",
    "numbers =0\n",
    "while numbers<5:\n",
    "    print(numbers)\n",
    "    if numbers==3:\n",
    "        break\n",
    "    numbers=numbers+1"
   ]
  },
  {
   "cell_type": "code",
   "execution_count": 212,
   "id": "99050fec-840f-4121-98fe-086c5d07de98",
   "metadata": {},
   "outputs": [
    {
     "name": "stdout",
     "output_type": "stream",
     "text": [
      "0\n",
      "1\n",
      "2\n",
      "3\n",
      "4\n"
     ]
    }
   ],
   "source": [
    "#else statement in loops\n",
    "numbers=0\n",
    "while numbers<5:\n",
    "    print(numbers)\n",
    "    if numbers==4:\n",
    "        break\n",
    "    numbers=numbers+1\n",
    "else: \n",
    "    print('not <5')"
   ]
  },
  {
   "cell_type": "code",
   "execution_count": 14,
   "id": "2b5def8f-2d18-4cbb-b6f0-b21ea1ca531e",
   "metadata": {},
   "outputs": [
    {
     "ename": "IndentationError",
     "evalue": "unindent does not match any outer indentation level (<tokenize>, line 9)",
     "output_type": "error",
     "traceback": [
      "\u001b[1;36m  File \u001b[1;32m<tokenize>:9\u001b[1;36m\u001b[0m\n\u001b[1;33m    else:\u001b[0m\n\u001b[1;37m    ^\u001b[0m\n\u001b[1;31mIndentationError\u001b[0m\u001b[1;31m:\u001b[0m unindent does not match any outer indentation level\n"
     ]
    }
   ],
   "source": [
    "#continue statement\n",
    "numbers=0\n",
    "\n",
    "while numbers<5:\n",
    "    print(numbers)\n",
    "    if numbers==3:\n",
    "        continue\n",
    "        numbers=numbers+1\n",
    "  else:\n",
    "    print('not <5')"
   ]
  },
  {
   "cell_type": "code",
   "execution_count": null,
   "id": "100eca55-6726-4724-a100-6575e309a5bd",
   "metadata": {},
   "outputs": [],
   "source": []
  },
  {
   "cell_type": "code",
   "execution_count": null,
   "id": "f441cda0-aabe-4dd6-9f9d-cfbe1a1acfae",
   "metadata": {},
   "outputs": [],
   "source": []
  },
  {
   "cell_type": "code",
   "execution_count": null,
   "id": "deabcf81-d89d-4280-8157-6c44d5fc2ccb",
   "metadata": {},
   "outputs": [],
   "source": []
  },
  {
   "cell_type": "code",
   "execution_count": null,
   "id": "5e94e511-ad71-4ff3-827a-1e7e112de19c",
   "metadata": {},
   "outputs": [],
   "source": []
  },
  {
   "cell_type": "code",
   "execution_count": null,
   "id": "d35c6e37-31dc-4b9b-a455-d056d131b943",
   "metadata": {},
   "outputs": [],
   "source": []
  },
  {
   "cell_type": "code",
   "execution_count": null,
   "id": "ee9c1b72-3fd2-4a43-8415-d8076ca6f482",
   "metadata": {},
   "outputs": [],
   "source": []
  },
  {
   "cell_type": "code",
   "execution_count": null,
   "id": "b929d56b-0abd-487a-bb0f-ad0bb56f5583",
   "metadata": {},
   "outputs": [],
   "source": []
  },
  {
   "cell_type": "code",
   "execution_count": null,
   "id": "e45f6f44-4c59-4495-8b4e-70b21606cd12",
   "metadata": {},
   "outputs": [],
   "source": []
  },
  {
   "cell_type": "code",
   "execution_count": null,
   "id": "8cb748c5-f6ef-446e-9edf-8e1c5dd24391",
   "metadata": {},
   "outputs": [],
   "source": []
  },
  {
   "cell_type": "code",
   "execution_count": null,
   "id": "8a21cd35-8620-4653-93bc-356ece68878e",
   "metadata": {},
   "outputs": [],
   "source": []
  },
  {
   "cell_type": "code",
   "execution_count": null,
   "id": "00eee7e1-c318-49e2-86de-fcb98be1db10",
   "metadata": {},
   "outputs": [],
   "source": []
  },
  {
   "cell_type": "code",
   "execution_count": null,
   "id": "dcf98ab4-904f-4333-8bd0-42769e39f239",
   "metadata": {},
   "outputs": [],
   "source": []
  },
  {
   "cell_type": "code",
   "execution_count": null,
   "id": "4a7e16f0-d5c2-40e2-9443-01195c26f9c9",
   "metadata": {},
   "outputs": [],
   "source": []
  },
  {
   "cell_type": "code",
   "execution_count": null,
   "id": "0d382449-9475-462c-9309-7c8ceb717b75",
   "metadata": {},
   "outputs": [],
   "source": []
  },
  {
   "cell_type": "code",
   "execution_count": null,
   "id": "b71a6fb4-1af3-4aa8-a70e-06dfc7272fb6",
   "metadata": {},
   "outputs": [],
   "source": []
  }
 ],
 "metadata": {
  "kernelspec": {
   "display_name": "Python 3 (ipykernel)",
   "language": "python",
   "name": "python3"
  },
  "language_info": {
   "codemirror_mode": {
    "name": "ipython",
    "version": 3
   },
   "file_extension": ".py",
   "mimetype": "text/x-python",
   "name": "python",
   "nbconvert_exporter": "python",
   "pygments_lexer": "ipython3",
   "version": "3.11.7"
  }
 },
 "nbformat": 4,
 "nbformat_minor": 5
}
