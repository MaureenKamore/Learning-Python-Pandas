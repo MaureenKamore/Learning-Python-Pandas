{
 "cells": [
  {
   "cell_type": "markdown",
   "id": "166323e9-155e-4bad-bc18-5465872180d5",
   "metadata": {},
   "source": [
    "Functions"
   ]
  },
  {
   "cell_type": "code",
   "execution_count": 2,
   "id": "c6c345af-efef-4e94-840d-94838b3ed393",
   "metadata": {},
   "outputs": [],
   "source": [
    "def first_func():\n",
    "    print('we did it!') #syntax of a function"
   ]
  },
  {
   "cell_type": "code",
   "execution_count": 4,
   "id": "bd813916-7958-46da-ab17-b3c223e7068c",
   "metadata": {},
   "outputs": [
    {
     "name": "stdout",
     "output_type": "stream",
     "text": [
      "we did it!\n"
     ]
    }
   ],
   "source": [
    "first_func()"
   ]
  },
  {
   "cell_type": "code",
   "execution_count": 6,
   "id": "be62bddd-eba7-4d3e-9c6f-acc291028107",
   "metadata": {},
   "outputs": [],
   "source": [
    "def number_squared(number):\n",
    "    print(number**2) #argument in functions"
   ]
  },
  {
   "cell_type": "code",
   "execution_count": 8,
   "id": "7582abc6-861b-4922-88ab-12ee00be54c3",
   "metadata": {},
   "outputs": [
    {
     "name": "stdout",
     "output_type": "stream",
     "text": [
      "625\n"
     ]
    }
   ],
   "source": [
    "number_squared(25)"
   ]
  },
  {
   "cell_type": "code",
   "execution_count": 16,
   "id": "af8a9620-6c30-4a50-967f-25cc51b982c5",
   "metadata": {},
   "outputs": [],
   "source": [
    "def number_squared_cust(number,power):\n",
    "    print(number**power) #multiple arguments in functions"
   ]
  },
  {
   "cell_type": "code",
   "execution_count": 18,
   "id": "67a9d795-550a-43ce-a566-181417e2708f",
   "metadata": {},
   "outputs": [
    {
     "name": "stdout",
     "output_type": "stream",
     "text": [
      "216\n"
     ]
    }
   ],
   "source": [
    "number_squared_cust(6,3)"
   ]
  },
  {
   "cell_type": "code",
   "execution_count": 33,
   "id": "41ab2cc6-2c56-41c4-9bda-80dc64d55a56",
   "metadata": {},
   "outputs": [],
   "source": [
    "def number_args(*number):\n",
    "    print(number[0]*number[1]) #arbitrary Arguments in functions"
   ]
  },
  {
   "cell_type": "code",
   "execution_count": 39,
   "id": "94c84184-4527-4362-b4fc-2937e26f1124",
   "metadata": {},
   "outputs": [
    {
     "name": "stdout",
     "output_type": "stream",
     "text": [
      "48\n"
     ]
    }
   ],
   "source": [
    "number_args(6,8,9,7)"
   ]
  },
  {
   "cell_type": "code",
   "execution_count": 43,
   "id": "64140c36-c9c9-4af3-82ce-1fc8a4ffbc09",
   "metadata": {},
   "outputs": [],
   "source": [
    "args_tuple=(5,7,5,8,7) #defining tuple\n",
    "\n",
    "def number_args(*number):\n",
    "    print(number[0]*number[1]) #arbitrary Arguments in functions"
   ]
  },
  {
   "cell_type": "code",
   "execution_count": 49,
   "id": "e5cd3011-ceb7-485e-aa17-ce4a68553595",
   "metadata": {},
   "outputs": [
    {
     "name": "stdout",
     "output_type": "stream",
     "text": [
      "35\n"
     ]
    }
   ],
   "source": [
    "number_args(*args_tuple)"
   ]
  },
  {
   "cell_type": "code",
   "execution_count": 57,
   "id": "6eb5ff93-ae47-437a-b78c-c74be2d4e2f7",
   "metadata": {},
   "outputs": [],
   "source": [
    "def number_squared_cust1(number,power):\n",
    "    print(number**power)"
   ]
  },
  {
   "cell_type": "code",
   "execution_count": 59,
   "id": "0a174dc6-aab2-420f-9535-101640e6bba2",
   "metadata": {},
   "outputs": [
    {
     "name": "stdout",
     "output_type": "stream",
     "text": [
      "1024\n"
     ]
    }
   ],
   "source": [
    "number_squared_cust1(power=5,number=4)"
   ]
  },
  {
   "cell_type": "code",
   "execution_count": 61,
   "id": "34e26cf1-9688-4a69-80e6-97460c4e2e02",
   "metadata": {},
   "outputs": [],
   "source": [
    "def number_kwarg(**number):\n",
    "    print('The number is:' +number['integer'])"
   ]
  },
  {
   "cell_type": "code",
   "execution_count": 63,
   "id": "bfd2a2c9-c19e-42a6-b3b6-4e23c80bc3e2",
   "metadata": {},
   "outputs": [
    {
     "name": "stdout",
     "output_type": "stream",
     "text": [
      "The number is:2019\n"
     ]
    }
   ],
   "source": [
    "number_kwarg(integer='2019')"
   ]
  },
  {
   "cell_type": "code",
   "execution_count": 73,
   "id": "c66331de-6b3d-467b-bc9e-d81a8cc563af",
   "metadata": {},
   "outputs": [],
   "source": [
    "def number_kwarg(**number):\n",
    "    print('The number is:' +number['integer'] + ' Other number is:' +number['integer2'])"
   ]
  },
  {
   "cell_type": "code",
   "execution_count": 75,
   "id": "7c7786a2-e62a-4eb4-8291-48a7b4b016e6",
   "metadata": {},
   "outputs": [
    {
     "name": "stdout",
     "output_type": "stream",
     "text": [
      "The number is:2019 Other number is:2020\n"
     ]
    }
   ],
   "source": [
    "number_kwarg(integer='2019', integer2='2020')"
   ]
  },
  {
   "cell_type": "markdown",
   "id": "6c99f1ca-0644-4a67-acaa-7b9cbdeab9a7",
   "metadata": {},
   "source": [
    "Converting Data Types"
   ]
  },
  {
   "cell_type": "code",
   "execution_count": 78,
   "id": "ddd38ace-70a3-4285-bd1f-b32f62927a80",
   "metadata": {},
   "outputs": [
    {
     "data": {
      "text/plain": [
       "int"
      ]
     },
     "execution_count": 78,
     "metadata": {},
     "output_type": "execute_result"
    }
   ],
   "source": [
    "num_int=7\n",
    "type(num_int)"
   ]
  },
  {
   "cell_type": "code",
   "execution_count": 80,
   "id": "d2e0df52-1f3d-40f6-b51b-5eb59297f314",
   "metadata": {},
   "outputs": [
    {
     "data": {
      "text/plain": [
       "str"
      ]
     },
     "execution_count": 80,
     "metadata": {},
     "output_type": "execute_result"
    }
   ],
   "source": [
    "num_str='7'\n",
    "type(num_str)"
   ]
  },
  {
   "cell_type": "code",
   "execution_count": 84,
   "id": "437bde8f-d8ee-4700-bf82-f18c8988656e",
   "metadata": {},
   "outputs": [
    {
     "data": {
      "text/plain": [
       "int"
      ]
     },
     "execution_count": 84,
     "metadata": {},
     "output_type": "execute_result"
    }
   ],
   "source": [
    "num_str_conv=int(num_str)\n",
    "type(num_str_conv) #converting string into an integer"
   ]
  },
  {
   "cell_type": "code",
   "execution_count": 98,
   "id": "31d5b085-b7ca-426c-b79b-19657e894047",
   "metadata": {},
   "outputs": [
    {
     "data": {
      "text/plain": [
       "tuple"
      ]
     },
     "execution_count": 98,
     "metadata": {},
     "output_type": "execute_result"
    }
   ],
   "source": [
    "list_type=[1,2,3]\n",
    "tuple(list_type) #converting list into a tuple\n",
    "type(tuple(list_type)"
   ]
  },
  {
   "cell_type": "code",
   "execution_count": 104,
   "id": "b03699c9-e0f8-470b-9714-15a90fcb39cc",
   "metadata": {},
   "outputs": [
    {
     "data": {
      "text/plain": [
       "set"
      ]
     },
     "execution_count": 104,
     "metadata": {},
     "output_type": "execute_result"
    }
   ],
   "source": [
    "list_type=[1,2,2,2,3,8,8,8,5,6,7,2,9]\n",
    "set(list_type) #converting list into a set\n",
    "type(set(list_type))"
   ]
  },
  {
   "cell_type": "code",
   "execution_count": 112,
   "id": "acdeff34-f0ed-4d81-8b43-e602c7c590fc",
   "metadata": {},
   "outputs": [
    {
     "data": {
      "text/plain": [
       "dict"
      ]
     },
     "execution_count": 112,
     "metadata": {},
     "output_type": "execute_result"
    }
   ],
   "source": [
    "dict_type = {'name': 'kamore', 'age':'30', 'weight': '65'}\n",
    "type(dict_type)"
   ]
  },
  {
   "cell_type": "code",
   "execution_count": 116,
   "id": "d4973dbd-c2e3-4d56-82de-59ac9bc5f667",
   "metadata": {},
   "outputs": [
    {
     "data": {
      "text/plain": [
       "dict_items([('name', 'kamore'), ('age', '30'), ('weight', '65')])"
      ]
     },
     "execution_count": 116,
     "metadata": {},
     "output_type": "execute_result"
    }
   ],
   "source": [
    "dict_type.items() #shows items in the dict"
   ]
  },
  {
   "cell_type": "code",
   "execution_count": 118,
   "id": "113dcf08-bf32-4cc7-85b0-91295d71b24e",
   "metadata": {},
   "outputs": [
    {
     "data": {
      "text/plain": [
       "dict_keys(['name', 'age', 'weight'])"
      ]
     },
     "execution_count": 118,
     "metadata": {},
     "output_type": "execute_result"
    }
   ],
   "source": [
    "dict_type.keys() #shows keys in the dict"
   ]
  },
  {
   "cell_type": "code",
   "execution_count": 124,
   "id": "7722fae3-5245-408f-a08f-8d529721aa61",
   "metadata": {},
   "outputs": [
    {
     "data": {
      "text/plain": [
       "dict_values(['kamore', '30', '65'])"
      ]
     },
     "execution_count": 124,
     "metadata": {},
     "output_type": "execute_result"
    }
   ],
   "source": [
    "dict_type.values() #shows values in the dict"
   ]
  },
  {
   "cell_type": "code",
   "execution_count": 128,
   "id": "3101eb82-36b2-4e96-9ea0-ea8a10be1462",
   "metadata": {},
   "outputs": [
    {
     "data": {
      "text/plain": [
       "list"
      ]
     },
     "execution_count": 128,
     "metadata": {},
     "output_type": "execute_result"
    }
   ],
   "source": [
    "list(dict_type.keys()) #coverting keys in a dict into a list\n",
    "type(list(dict_type.keys()))"
   ]
  },
  {
   "cell_type": "code",
   "execution_count": 132,
   "id": "b8e253e4-c38a-4131-8ee0-d3838ac71e9d",
   "metadata": {},
   "outputs": [
    {
     "data": {
      "text/plain": [
       "list"
      ]
     },
     "execution_count": 132,
     "metadata": {},
     "output_type": "execute_result"
    }
   ],
   "source": [
    "list(dict_type.values()) #coverting values in a dict into a list\n",
    "type(list(dict_type.values()))"
   ]
  },
  {
   "cell_type": "code",
   "execution_count": 146,
   "id": "3d9d1263-c7cd-42a6-b9cd-5f90fb8ab8a9",
   "metadata": {},
   "outputs": [
    {
     "data": {
      "text/plain": [
       "['I', ' ', 'l', 'i', 'k', 'e', ' ', 't', 'o', ' ', 'e', 'a', 't']"
      ]
     },
     "execution_count": 146,
     "metadata": {},
     "output_type": "execute_result"
    }
   ],
   "source": [
    "long_str='I like to eat'\n",
    "list(long_str)"
   ]
  },
  {
   "cell_type": "code",
   "execution_count": 148,
   "id": "f37ca1b4-d7d4-4050-bdc8-12d26689668c",
   "metadata": {},
   "outputs": [
    {
     "data": {
      "text/plain": [
       "{' ', 'I', 'a', 'e', 'i', 'k', 'l', 'o', 't'}"
      ]
     },
     "execution_count": 148,
     "metadata": {},
     "output_type": "execute_result"
    }
   ],
   "source": [
    "set(long_str)"
   ]
  },
  {
   "cell_type": "code",
   "execution_count": null,
   "id": "79ec8a92-62b8-4e02-a434-7662f76cf03b",
   "metadata": {},
   "outputs": [],
   "source": []
  },
  {
   "cell_type": "code",
   "execution_count": null,
   "id": "c9d1dccd-bf7e-488f-9083-aa262a2550f6",
   "metadata": {},
   "outputs": [],
   "source": []
  }
 ],
 "metadata": {
  "kernelspec": {
   "display_name": "Python 3 (ipykernel)",
   "language": "python",
   "name": "python3"
  },
  "language_info": {
   "codemirror_mode": {
    "name": "ipython",
    "version": 3
   },
   "file_extension": ".py",
   "mimetype": "text/x-python",
   "name": "python",
   "nbconvert_exporter": "python",
   "pygments_lexer": "ipython3",
   "version": "3.11.7"
  }
 },
 "nbformat": 4,
 "nbformat_minor": 5
}
